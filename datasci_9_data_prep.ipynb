{
  "nbformat": 4,
  "nbformat_minor": 0,
  "metadata": {
    "colab": {
      "provenance": [],
      "authorship_tag": "ABX9TyNTvHhs+GC1pibsEQkKuFej",
      "include_colab_link": true
    },
    "kernelspec": {
      "name": "python3",
      "display_name": "Python 3"
    },
    "language_info": {
      "name": "python"
    }
  },
  "cells": [
    {
      "cell_type": "markdown",
      "metadata": {
        "id": "view-in-github",
        "colab_type": "text"
      },
      "source": [
        "<a href=\"https://colab.research.google.com/github/ArtisticWenny/datasci_9_data_prep/blob/main/datasci_9_data_prep.ipynb\" target=\"_parent\"><img src=\"https://colab.research.google.com/assets/colab-badge.svg\" alt=\"Open In Colab\"/></a>"
      ]
    },
    {
      "cell_type": "code",
      "source": [
        "import pandas as pd\n",
        "import numpy as np"
      ],
      "metadata": {
        "id": "zaAIP9I7EVrR"
      },
      "execution_count": 2,
      "outputs": []
    },
    {
      "cell_type": "code",
      "source": [
        "from google.colab import drive\n",
        "\n",
        "drive.mount('/content/drive')"
      ],
      "metadata": {
        "colab": {
          "base_uri": "https://localhost:8080/"
        },
        "id": "8fnFcXTTDxDp",
        "outputId": "27a92dd3-d536-4301-9332-40d14d520ece"
      },
      "execution_count": 1,
      "outputs": [
        {
          "output_type": "stream",
          "name": "stdout",
          "text": [
            "Mounted at /content/drive\n"
          ]
        }
      ]
    },
    {
      "cell_type": "code",
      "source": [
        "csv_file_path = ['/content/drive/MyDrive/Lottery_Powerball_Winning_Numbers__Beginning_2010.csv']\n",
        "\n",
        "df = pd.read_csv('/content/drive/MyDrive/Lottery_Powerball_Winning_Numbers__Beginning_2010.csv')\n",
        "\n",
        "print(df.head)"
      ],
      "metadata": {
        "id": "F739kdVQDz8d"
      },
      "execution_count": null,
      "outputs": []
    },
    {
      "cell_type": "code",
      "source": [
        "csv_file_path = ['/content/drive/MyDrive/Crime_Data_from_2020_to_Present.csv']\n",
        "\n",
        "df2 = pd.read_csv('/content/drive/MyDrive/Crime_Data_from_2020_to_Present.csv')\n",
        "\n",
        "print(df2.head)"
      ],
      "metadata": {
        "id": "00sy_5miEAj0"
      },
      "execution_count": null,
      "outputs": []
    },
    {
      "cell_type": "code",
      "source": [
        "df.head()"
      ],
      "metadata": {
        "id": "KAecS8bwFiPs"
      },
      "execution_count": null,
      "outputs": []
    },
    {
      "cell_type": "code",
      "source": [
        "df2.head()"
      ],
      "metadata": {
        "id": "QeRUCLpnF76I"
      },
      "execution_count": null,
      "outputs": []
    },
    {
      "cell_type": "code",
      "source": [
        "df.shape"
      ],
      "metadata": {
        "colab": {
          "base_uri": "https://localhost:8080/"
        },
        "id": "bAAX2mQEHff4",
        "outputId": "340a94b5-e4a2-4d3e-ce2b-fa942e506331"
      },
      "execution_count": 12,
      "outputs": [
        {
          "output_type": "execute_result",
          "data": {
            "text/plain": [
              "(1555, 3)"
            ]
          },
          "metadata": {},
          "execution_count": 12
        }
      ]
    },
    {
      "cell_type": "code",
      "source": [
        "df2.shape"
      ],
      "metadata": {
        "colab": {
          "base_uri": "https://localhost:8080/"
        },
        "id": "s5_rnMK5Hh0p",
        "outputId": "f405373e-a399-43c2-aec9-af90b523aa3b"
      },
      "execution_count": 13,
      "outputs": [
        {
          "output_type": "execute_result",
          "data": {
            "text/plain": [
              "(847725, 28)"
            ]
          },
          "metadata": {},
          "execution_count": 13
        }
      ]
    }
  ]
}