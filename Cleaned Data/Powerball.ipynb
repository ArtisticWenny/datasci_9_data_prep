{
  "nbformat": 4,
  "nbformat_minor": 0,
  "metadata": {
    "colab": {
      "provenance": [],
      "authorship_tag": "ABX9TyOJKxs4G3nclhzTaXGGgJbV",
      "include_colab_link": true
    },
    "kernelspec": {
      "name": "python3",
      "display_name": "Python 3"
    },
    "language_info": {
      "name": "python"
    }
  },
  "cells": [
    {
      "cell_type": "markdown",
      "metadata": {
        "id": "view-in-github",
        "colab_type": "text"
      },
      "source": [
        "<a href=\"https://colab.research.google.com/github/ArtisticWenny/datasci_9_data_prep/blob/main/Powerball.ipynb\" target=\"_parent\"><img src=\"https://colab.research.google.com/assets/colab-badge.svg\" alt=\"Open In Colab\"/></a>"
      ]
    },
    {
      "cell_type": "markdown",
      "source": [
        "### Load in packages"
      ],
      "metadata": {
        "id": "ZM7jLkw_O5Q-"
      }
    },
    {
      "cell_type": "code",
      "source": [
        "import pandas as pd\n",
        "import numpy as np"
      ],
      "metadata": {
        "id": "zaAIP9I7EVrR"
      },
      "execution_count": 1,
      "outputs": []
    },
    {
      "cell_type": "markdown",
      "source": [
        "### Load in drive"
      ],
      "metadata": {
        "id": "inzsKnWUO973"
      }
    },
    {
      "cell_type": "code",
      "source": [
        "from google.colab import drive\n",
        "\n",
        "drive.mount('/content/drive')"
      ],
      "metadata": {
        "colab": {
          "base_uri": "https://localhost:8080/"
        },
        "id": "8fnFcXTTDxDp",
        "outputId": "47f8d4cd-63b4-48e1-d8a8-237c10e560e1"
      },
      "execution_count": 2,
      "outputs": [
        {
          "output_type": "stream",
          "name": "stdout",
          "text": [
            "Mounted at /content/drive\n"
          ]
        }
      ]
    },
    {
      "cell_type": "markdown",
      "source": [
        "Load in powerball CSV"
      ],
      "metadata": {
        "id": "WTCh2fDIPBGx"
      }
    },
    {
      "cell_type": "code",
      "source": [
        "csv_file_path = ['/content/drive/MyDrive/Lottery_Powerball_Winning_Numbers__Beginning_2010.csv']\n",
        "\n",
        "powerball = pd.read_csv('/content/drive/MyDrive/Lottery_Powerball_Winning_Numbers__Beginning_2010.csv')\n",
        "\n",
        "print(powerball.head)"
      ],
      "metadata": {
        "id": "F739kdVQDz8d"
      },
      "execution_count": null,
      "outputs": []
    },
    {
      "cell_type": "markdown",
      "source": [
        "Display data powerball"
      ],
      "metadata": {
        "id": "NRbhEwwJPK08"
      }
    },
    {
      "cell_type": "code",
      "source": [
        "powerball.head()"
      ],
      "metadata": {
        "id": "KAecS8bwFiPs"
      },
      "execution_count": null,
      "outputs": []
    },
    {
      "cell_type": "markdown",
      "source": [
        "Define shape of data"
      ],
      "metadata": {
        "id": "Sb8frbJTPTw_"
      }
    },
    {
      "cell_type": "code",
      "source": [
        "powerball.shape"
      ],
      "metadata": {
        "id": "bAAX2mQEHff4"
      },
      "execution_count": null,
      "outputs": []
    },
    {
      "cell_type": "markdown",
      "source": [
        "Find missing value of data"
      ],
      "metadata": {
        "id": "ZXydGMVrPWdx"
      }
    },
    {
      "cell_type": "code",
      "source": [
        "missing_values_mat = powerball.isnull().sum()"
      ],
      "metadata": {
        "id": "4t-iYRlGOoKP"
      },
      "execution_count": 20,
      "outputs": []
    },
    {
      "cell_type": "markdown",
      "source": [
        "Load in columns"
      ],
      "metadata": {
        "id": "Kmis9BxdP0qD"
      }
    },
    {
      "cell_type": "code",
      "source": [
        "powerball.columns"
      ],
      "metadata": {
        "id": "BZLWFmT9Pwod"
      },
      "execution_count": null,
      "outputs": []
    },
    {
      "cell_type": "markdown",
      "source": [
        "Value types"
      ],
      "metadata": {
        "id": "GanurZI_P5-v"
      }
    },
    {
      "cell_type": "code",
      "source": [
        "powerball.dtypes"
      ],
      "metadata": {
        "id": "JFBaIgmmP9iz"
      },
      "execution_count": null,
      "outputs": []
    },
    {
      "cell_type": "markdown",
      "source": [
        "Remove duplicates"
      ],
      "metadata": {
        "id": "s8Lmg9JfQHhR"
      }
    },
    {
      "cell_type": "code",
      "source": [
        "powerball.drop_duplicates(inplace=True)"
      ],
      "metadata": {
        "id": "ebrt0rlMQJKS"
      },
      "execution_count": 26,
      "outputs": []
    }
  ]
}
